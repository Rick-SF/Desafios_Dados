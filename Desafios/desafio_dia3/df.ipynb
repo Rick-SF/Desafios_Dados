{
 "cells": [
  {
   "cell_type": "markdown",
   "metadata": {},
   "source": [
    "# Meu passo a passo para resolução dos problemas:\n",
    "Passo 1: Importar as bibliotecas\n",
    "Passo 2: Importar a base de dados\n",
    "Passo 3: Visualizar a base de dados\n",
    "Passo 4: Filtrar e retirar as colunas com valores vazios\n",
    "Passo 5: Visualizar os valores min, max e medios de cada matéria das colunas com pontuação das matérias\n",
    "Passo 6: \n"
   ]
  }
 ],
 "metadata": {
  "language_info": {
   "name": "python"
  }
 },
 "nbformat": 4,
 "nbformat_minor": 2
}
